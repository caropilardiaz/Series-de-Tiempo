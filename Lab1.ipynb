{
 "cells": [
  {
   "cell_type": "markdown",
   "metadata": {},
   "source": [
    "## Laboratorio N°1\n",
    "### Materia: Series de Tiempo\n",
    "#### Alumnos: Díaz, Carolina ; Fabro, Juan"
   ]
  },
  {
   "cell_type": "markdown",
   "metadata": {},
   "source": [
    "Modelos de predicción para llamadas telefónicas por minutos para líneas prepagas y pospagas"
   ]
  },
  {
   "cell_type": "code",
   "execution_count": null,
   "metadata": {},
   "outputs": [],
   "source": [
    "# Packages\n",
    "import numpy as np\n",
    "from scipy import stats\n",
    "import pandas as pd\n",
    "import matplotlib.pyplot as plt\n",
    "import seaborn as sns\n",
    "import statsmodels.api as sm"
   ]
  },
  {
   "cell_type": "code",
   "execution_count": null,
   "metadata": {},
   "outputs": [],
   "source": [
    "# Plot settings\n",
    "sns.set_context('notebook') \n",
    "sns.set_style('ticks')\n",
    "red='#D62728'\n",
    "blue='#1F77B4'\n",
    "%matplotlib inline\n"
   ]
  },
  {
   "cell_type": "code",
   "execution_count": null,
   "metadata": {},
   "outputs": [],
   "source": [
    "plt.rcParams['figure.figsize'] = [15, 10]"
   ]
  },
  {
   "cell_type": "code",
   "execution_count": null,
   "metadata": {},
   "outputs": [],
   "source": [
    "from datetime import datetime\n",
    "now=datetime.now()\n",
    "now"
   ]
  },
  {
   "cell_type": "code",
   "execution_count": null,
   "metadata": {},
   "outputs": [],
   "source": [
    "print(now)"
   ]
  },
  {
   "cell_type": "code",
   "execution_count": null,
   "metadata": {},
   "outputs": [],
   "source": [
    "type(now)"
   ]
  },
  {
   "cell_type": "code",
   "execution_count": null,
   "metadata": {},
   "outputs": [],
   "source": [
    "now.year, now.month, now.day"
   ]
  },
  {
   "cell_type": "markdown",
   "metadata": {},
   "source": [
    "Fechas para series de tiempo"
   ]
  },
  {
   "cell_type": "code",
   "execution_count": null,
   "metadata": {},
   "outputs": [],
   "source": [
    "data=pd.read_csv('./datasets/Telefonia_movil.csv')\n",
    "data['Año_Trimestre'] = data[\"Año\"].astype(str) + \"Q\" + data[\"Trimestre\"].map(str)\n",
    "data.set_index('Año_Trimestre')\n",
    "#data.index=data.index.to_period(freq='Q')\n",
    "\n",
    "data.head()"
   ]
  },
  {
   "cell_type": "code",
   "execution_count": null,
   "metadata": {},
   "outputs": [],
   "source": [
    "data_trim= pd.to_datetime(data['Año_Trimestre'])\n",
    "data['Año_Trimestre'] = pd.PeriodIndex(data_trim, freq='Q')\n",
    "data[:10]"
   ]
  },
  {
   "cell_type": "code",
   "execution_count": null,
   "metadata": {},
   "outputs": [],
   "source": [
    "data['Minutos pospago salientes (miles)'] = data['Minutos pospago salientes (miles)'].str.replace('.', '').astype(int)\n",
    "data.index=data['Año_Trimestre']"
   ]
  },
  {
   "cell_type": "code",
   "execution_count": null,
   "metadata": {},
   "outputs": [],
   "source": [
    "datat= pd.DataFrame(data, columns=['Minutos pospago salientes (miles)', 'Minutos prepago salientes (miles)', 'Total de minutos salientes (miles)'])\n",
    "datat.dtypes"
   ]
  },
  {
   "cell_type": "code",
   "execution_count": null,
   "metadata": {},
   "outputs": [],
   "source": [
    "datat.describe().round(2)"
   ]
  },
  {
   "cell_type": "markdown",
   "metadata": {},
   "source": [
    "Times series plot"
   ]
  },
  {
   "cell_type": "code",
   "execution_count": null,
   "metadata": {},
   "outputs": [],
   "source": [
    "datat.plot();\n",
    "plt.show()"
   ]
  },
  {
   "cell_type": "code",
   "execution_count": null,
   "metadata": {},
   "outputs": [],
   "source": [
    "datat['2013'].plot(figsize=(6,4));"
   ]
  },
  {
   "cell_type": "code",
   "execution_count": null,
   "metadata": {},
   "outputs": [],
   "source": [
    "datat['2014'].plot(figsize=(6,4));"
   ]
  },
  {
   "cell_type": "code",
   "execution_count": null,
   "metadata": {},
   "outputs": [],
   "source": [
    "datat['2015'].plot(figsize=(6,4));"
   ]
  },
  {
   "cell_type": "code",
   "execution_count": null,
   "metadata": {},
   "outputs": [],
   "source": [
    "datat['2016'].plot(figsize=(6,4));"
   ]
  },
  {
   "cell_type": "code",
   "execution_count": null,
   "metadata": {},
   "outputs": [],
   "source": [
    "datat['2017'].plot(figsize=(6,4));"
   ]
  },
  {
   "cell_type": "code",
   "execution_count": null,
   "metadata": {},
   "outputs": [],
   "source": [
    "datat['2018'].plot(figsize=(6,4));"
   ]
  },
  {
   "cell_type": "code",
   "execution_count": null,
   "metadata": {},
   "outputs": [],
   "source": [
    "datat['quarter'] = datat.index.quarter\n",
    "datat['year'] = datat.index.year"
   ]
  },
  {
   "cell_type": "markdown",
   "metadata": {},
   "source": [
    "So to compare periods by ploting, we use Seaborn line plot using hue"
   ]
  },
  {
   "cell_type": "code",
   "execution_count": null,
   "metadata": {},
   "outputs": [],
   "source": [
    "sns.lineplot('quarter','Total de minutos salientes (miles)',hue='year',data=datat, markers='none');"
   ]
  },
  {
   "cell_type": "code",
   "execution_count": null,
   "metadata": {},
   "outputs": [],
   "source": [
    "sns.lineplot('quarter','Minutos pospago salientes (miles)',hue='year',data=datat, markers='none');"
   ]
  },
  {
   "cell_type": "code",
   "execution_count": null,
   "metadata": {},
   "outputs": [],
   "source": [
    "sns.lineplot('quarter','Minutos prepago salientes (miles)',hue='year',data=datat, markers='none');"
   ]
  },
  {
   "cell_type": "markdown",
   "metadata": {},
   "source": [
    "\n",
    "Resumimos datos para todo el período bajo análisis en una línea y su intervalo\n"
   ]
  },
  {
   "cell_type": "code",
   "execution_count": null,
   "metadata": {},
   "outputs": [],
   "source": [
    "sns.lineplot('year','Minutos pospago salientes (miles)',data=datat[['year','Minutos pospago salientes (miles)']]);"
   ]
  },
  {
   "cell_type": "code",
   "execution_count": null,
   "metadata": {},
   "outputs": [],
   "source": [
    "sns.lineplot('year','Minutos prepago salientes (miles)',data=datat[['year','Minutos prepago salientes (miles)']]);"
   ]
  },
  {
   "cell_type": "code",
   "execution_count": null,
   "metadata": {},
   "outputs": [],
   "source": [
    "datat.boxplot(column='Minutos pospago salientes (miles)',by='quarter');"
   ]
  },
  {
   "cell_type": "markdown",
   "metadata": {},
   "source": [
    "la dispersión en los trimestres varía, aparentemente se incrementa en el segundo y cuarto trimestre pero siendo el úlitmo el que se despega con respecto a los demás"
   ]
  },
  {
   "cell_type": "code",
   "execution_count": null,
   "metadata": {},
   "outputs": [],
   "source": [
    "datat.boxplot(column='Minutos pospago salientes (miles)',by='year');"
   ]
  },
  {
   "cell_type": "code",
   "execution_count": null,
   "metadata": {},
   "outputs": [],
   "source": [
    "datat.boxplot(column='Minutos prepago salientes (miles)',by='quarter');"
   ]
  },
  {
   "cell_type": "code",
   "execution_count": null,
   "metadata": {},
   "outputs": [],
   "source": [
    "datat.boxplot(column='Minutos prepago salientes (miles)',by='year');"
   ]
  },
  {
   "cell_type": "markdown",
   "metadata": {},
   "source": [
    "Visualizamos la tendencia"
   ]
  },
  {
   "cell_type": "code",
   "execution_count": null,
   "metadata": {},
   "outputs": [],
   "source": [
    "from pandas.plotting import lag_plot"
   ]
  },
  {
   "cell_type": "code",
   "execution_count": null,
   "metadata": {},
   "outputs": [],
   "source": [
    "#We can also do a lag graph\n",
    "\n",
    "lag_plot(datat['Minutos pospago salientes (miles)']);"
   ]
  },
  {
   "cell_type": "code",
   "execution_count": null,
   "metadata": {},
   "outputs": [],
   "source": [
    "lag_plot(datat['Minutos pospago salientes (miles)'],lag=12,);"
   ]
  },
  {
   "cell_type": "code",
   "execution_count": null,
   "metadata": {},
   "outputs": [],
   "source": [
    "plt.rcParams['figure.figsize'] = [20, 200]\n",
    "for i in range(14):\n",
    "   plt.subplot(14,2,i+1)\n",
    "   plt.title(\"lag \" + str(i+1))\n",
    "   lag_plot(datat['Minutos pospago salientes (miles)'],lag=i+1);"
   ]
  },
  {
   "cell_type": "markdown",
   "metadata": {},
   "source": [
    "### Random Walk"
   ]
  },
  {
   "cell_type": "markdown",
   "metadata": {},
   "source": [
    "### Líneas Pospagas"
   ]
  },
  {
   "cell_type": "code",
   "execution_count": null,
   "metadata": {},
   "outputs": [],
   "source": [
    "# ultimos valores de la serie original\n",
    "datat= datat.drop(['quarter', 'year', 'Total de minutos salientes (miles)'], axis=1)\n",
    "datat.tail()"
   ]
  },
  {
   "cell_type": "markdown",
   "metadata": {},
   "source": [
    "Creamos un rango de fechas o períodos a partir del índice de tiempo que sigue a la última observación en los datos.\n"
   ]
  },
  {
   "cell_type": "code",
   "execution_count": null,
   "metadata": {},
   "outputs": [],
   "source": [
    "h = 4 # cuatro trimestres posteriores son los que queremos predecir.\n",
    "test=pd.period_range(start=datat.index[-1]+1, periods=h, freq='Q')\n",
    "test\n"
   ]
  },
  {
   "cell_type": "code",
   "execution_count": null,
   "metadata": {},
   "outputs": [],
   "source": [
    "\n",
    "pred_pospagas=pd.Series(np.repeat(datat['Minutos pospago salientes (miles)'].iloc[-1],h), index=test) # the forecast repeats the last observed values h times\n",
    "pred_pospagas\n"
   ]
  },
  {
   "cell_type": "markdown",
   "metadata": {},
   "source": [
    "Para construir los intervalos de la predicción obtenemos DS de los errores"
   ]
  },
  {
   "cell_type": "code",
   "execution_count": null,
   "metadata": {},
   "outputs": [],
   "source": [
    "resid_pos=datat['Minutos pospago salientes (miles)']-datat['Minutos pospago salientes (miles)'].shift(1) # the shift lags the series by one period, trajo la serie para más adelante entonces restamos a la serie original la nueva serie\n",
    "sigma_pos = resid_pos.std()# ver los si los residuos se distribuyen normal, graficar\n",
    "round(sigma_pos,3)"
   ]
  },
  {
   "cell_type": "code",
   "execution_count": null,
   "metadata": {},
   "outputs": [],
   "source": [
    "intv_pos = pd.concat([pred_pospagas-stats.norm.ppf(0.975)*sigma_pos*np.sqrt(np.arange(1,h+1)),# cortamos las colas de la normal, calculamos IC\n",
    "                  \n",
    "                   pred_pospagas+stats.norm.ppf(0.975)*sigma_pos*np.sqrt(np.arange(1,h+1))], axis=1)\n",
    "intv_pos.round(3)"
   ]
  },
  {
   "cell_type": "code",
   "execution_count": null,
   "metadata": {},
   "outputs": [],
   "source": [
    "from plotting import fanchart\n",
    "\n",
    "point_pred = (intv_pos[0]+intv_pos[1])/2\n",
    "\n",
    "fig, ax = fanchart(datat['Minutos pospago salientes (miles)'],point_pred,intv_pos,intv_pos,intv_pos)\n",
    "\n",
    "plt.show()"
   ]
  },
  {
   "cell_type": "markdown",
   "metadata": {},
   "source": [
    "Líneas prepagas"
   ]
  },
  {
   "cell_type": "code",
   "execution_count": null,
   "metadata": {},
   "outputs": [],
   "source": [
    "pred_pre=pd.Series(np.repeat(datat['Minutos prepago salientes (miles)'].iloc[-1], h), index=test) # the forecast repeats the last observed values h times\n",
    "pred_pre"
   ]
  },
  {
   "cell_type": "code",
   "execution_count": null,
   "metadata": {},
   "outputs": [],
   "source": [
    "resid_pre=datat['Minutos prepago salientes (miles)']-datat['Minutos prepago salientes (miles)'].shift(1) # the shift lags the series by one period\n",
    "sigma_pre = resid_pre.std()\n",
    "round(sigma_pre,3)"
   ]
  },
  {
   "cell_type": "code",
   "execution_count": null,
   "metadata": {},
   "outputs": [],
   "source": [
    "intv_pre = pd.concat([pred_pre-stats.norm.ppf(0.975)*sigma_pos*np.sqrt(np.arange(1,h+1)),\n",
    "                   pred_pre+stats.norm.ppf(0.975)*sigma_pos*np.sqrt(np.arange(1,h+1))], axis=1)\n",
    "intv_pre.round(3)"
   ]
  },
  {
   "cell_type": "code",
   "execution_count": null,
   "metadata": {},
   "outputs": [],
   "source": [
    "point_pred_pre = (intv_pre[0]+intv_pre[1])/2\n",
    "\n",
    "fig, ax = fanchart(datat['Minutos prepago salientes (miles)'],point_pred_pre,intv_pre,intv_pre,intv_pre)\n",
    "\n",
    "plt.show()"
   ]
  },
  {
   "cell_type": "markdown",
   "metadata": {},
   "source": [
    "### Simple Exponential Smoothing"
   ]
  },
  {
   "cell_type": "markdown",
   "metadata": {},
   "source": [
    "### Líneas pospagas"
   ]
  },
  {
   "cell_type": "code",
   "execution_count": null,
   "metadata": {},
   "outputs": [],
   "source": [
    "datat = datat.astype(float)\n",
    "datat.dtypes"
   ]
  },
  {
   "cell_type": "code",
   "execution_count": null,
   "metadata": {},
   "outputs": [],
   "source": [
    "pip install -U statsmodels\n"
   ]
  },
  {
   "cell_type": "code",
   "execution_count": null,
   "metadata": {},
   "outputs": [],
   "source": [
    "\n",
    "from statsmodels.compat.python import string_types\n",
    "\n",
    "import numpy as np\n",
    "import pandas as pd\n",
    "from scipy.optimize import basinhopping, brute, minimize\n",
    "from scipy.spatial.distance import sqeuclidean\n",
    "from scipy.special import inv_boxcox\n",
    "from scipy.stats import boxcox\n",
    "\n",
    "from statsmodels.base.model import Results\n",
    "from statsmodels.base.wrapper import populate_wrapper, union_dicts, ResultsWrapper\n",
    "from statsmodels.tsa.base.tsa_model import TimeSeriesModel\n",
    "from statsmodels.tsa.tsatools import freq_to_period\n",
    "import statsmodels.tsa._exponential_smoothers as smoothers\n",
    "\n"
   ]
  },
  {
   "cell_type": "code",
   "execution_count": null,
   "metadata": {},
   "outputs": [],
   "source": [
    "model_ses = sm.tsa.SimpleExpSmoothing(datat['Minutos pospago salientes (miles)']).fit()\n",
    "fitted_ses = model_ses.fittedvalues\n",
    "model_ses.summary()\n"
   ]
  },
  {
   "cell_type": "code",
   "execution_count": null,
   "metadata": {},
   "outputs": [],
   "source": [
    "mse_ses = sm.tools.eval_measures.mse(datat['Minutos pospago salientes (miles)'],fitted_ses)# para calcular el error medio cuadrado\n",
    "print(' In-sample fit:')\n",
    "print(' MSE               {0:.3f}'.format(mse_ses))"
   ]
  },
  {
   "cell_type": "markdown",
   "metadata": {},
   "source": [
    "Generalmente no dan buenos resultados los criterios de bondad de ajuste como AIC y BIC, se deben calcular por fórmula"
   ]
  },
  {
   "cell_type": "code",
   "execution_count": null,
   "metadata": {},
   "outputs": [],
   "source": [
    "N = len(datat['Minutos pospago salientes (miles)'])\n",
    "loglik_ses=-(N/2)*(1+np.log(2*np.pi))-(N/2)*np.log(mse_ses)\n",
    "aic_ses=-2*loglik_ses+2*3\n",
    "bic_ses=-2*loglik_ses+np.log(N)*3\n",
    "print(' Log-likelihood    %.3f' % (loglik_ses))\n",
    "print(' AIC               {0:.3f}'.format(aic_ses))\n",
    "print(' BIC               {0:.3f}'.format(bic_ses))"
   ]
  },
  {
   "cell_type": "markdown",
   "metadata": {},
   "source": [
    "Son distintos los valores que arrojan y deben ser considerados ya que superan en +/- 2 puntos por lo tanto la selecciṕn entre modelos puede variar"
   ]
  },
  {
   "cell_type": "code",
   "execution_count": null,
   "metadata": {},
   "outputs": [],
   "source": [
    "fig, ax= plt.subplots(figsize=(9,6))\n",
    "datat['Minutos pospago salientes (miles)'].plot(color=red, label='Minutos pospago')\n",
    "fitted_ses.plot(color='black', label='Simple exponential smoothing fit', alpha=0.8)\n",
    "ax.set_xlabel('')\n",
    "ax.set_ylabel('Inflation')\n",
    "ax.set_title('Minutos pospago  salientes')\n",
    "ax.set_xticks([], minor=True) \n",
    "plt.legend(loc='best')\n",
    "sns.despine()\n",
    "plt.show()"
   ]
  },
  {
   "cell_type": "markdown",
   "metadata": {},
   "source": [
    "### Líneas Prepago"
   ]
  },
  {
   "cell_type": "code",
   "execution_count": null,
   "metadata": {},
   "outputs": [],
   "source": [
    "model_sesr = sm.tsa.SimpleExpSmoothing(datat['Minutos prepago salientes (miles)']).fit()\n",
    "fitted_sesr = model_sesr.fittedvalues\n",
    "model_sesr.summary()\n"
   ]
  },
  {
   "cell_type": "code",
   "execution_count": null,
   "metadata": {},
   "outputs": [],
   "source": [
    "mse_sesr = sm.tools.eval_measures.mse(datat['Minutos prepago salientes (miles)'],fitted_sesr)# para calcular el error medio cuadrado\n",
    "print(' In-sample fit:')\n",
    "print(' MSE               {0:.3f}'.format(mse_sesr))"
   ]
  },
  {
   "cell_type": "markdown",
   "metadata": {},
   "source": [
    "El MSE es mucho más elevado para líneas de prepago"
   ]
  },
  {
   "cell_type": "code",
   "execution_count": null,
   "metadata": {},
   "outputs": [],
   "source": [
    "N = len(datat['Minutos prepago salientes (miles)'])\n",
    "loglik_sesr=-(N/2)*(1+np.log(2*np.pi))-(N/2)*np.log(mse_sesr)\n",
    "aic_sesr=-2*loglik_sesr+2*3\n",
    "bic_sesr=-2*loglik_sesr+np.log(N)*3\n",
    "print(' Log-likelihood    %.3f' % (loglik_sesr))\n",
    "print(' AIC               {0:.3f}'.format(aic_sesr))\n",
    "print(' BIC               {0:.3f}'.format(bic_sesr))"
   ]
  },
  {
   "cell_type": "code",
   "execution_count": null,
   "metadata": {},
   "outputs": [],
   "source": [
    "fig, ax= plt.subplots(figsize=(9,6))\n",
    "datat['Minutos prepago salientes (miles)'].plot(color=red, label='Minutos prepago')\n",
    "fitted_sesr.plot(color='black', label='Simple exponential smoothing fit', alpha=0.8)\n",
    "ax.set_xlabel('')\n",
    "ax.set_ylabel('Inflation')\n",
    "ax.set_title('Minutos prepago  salientes')\n",
    "ax.set_xticks([], minor=True) \n",
    "plt.legend(loc='best')\n",
    "sns.despine()\n",
    "plt.show()"
   ]
  },
  {
   "cell_type": "markdown",
   "metadata": {},
   "source": [
    "La predicción de ses es mejor para líneas pospago"
   ]
  },
  {
   "cell_type": "markdown",
   "metadata": {},
   "source": [
    "### Diagnóstico de los modelos ses"
   ]
  },
  {
   "cell_type": "markdown",
   "metadata": {},
   "source": [
    "###  Líneas Pospago"
   ]
  },
  {
   "cell_type": "code",
   "execution_count": null,
   "metadata": {},
   "outputs": [],
   "source": [
    "resid=datat['Minutos pospago salientes (miles)']-fitted_ses"
   ]
  },
  {
   "cell_type": "code",
   "execution_count": null,
   "metadata": {},
   "outputs": [],
   "source": [
    "fig, ax= plt.subplots(figsize=(9,6))\n",
    "resid.plot(color=blue)\n",
    "ax.set_xlabel('')\n",
    "ax.set_xticks([], minor=True) \n",
    "ax.set_title('Residual plot')\n",
    "sns.despine()\n",
    "plt.show()"
   ]
  },
  {
   "cell_type": "markdown",
   "metadata": {},
   "source": [
    " Encontramos que los residuos no están correlacionados, tienen una varianza bastante homogénea con un pico importante para el año 2017."
   ]
  },
  {
   "cell_type": "code",
   "execution_count": null,
   "metadata": {},
   "outputs": [],
   "source": [
    "fig, ax = plt.subplots(figsize=(9,6))\n",
    "sm.graphics.tsa.plot_acf(resid, lags=20, ax=ax)\n",
    "sns.despine()\n",
    "plt.show()\n"
   ]
  },
  {
   "cell_type": "code",
   "execution_count": null,
   "metadata": {},
   "outputs": [],
   "source": [
    "def hist(series):\n",
    "    fig, ax= plt.subplots(figsize=(9,6))\n",
    "    sns.distplot(series, ax=ax, hist_kws={'alpha': 0.8, 'edgecolor':'black', 'color': blue},  \n",
    "                 kde_kws={'color': 'black', 'alpha': 0.7})\n",
    "    sns.despine()\n",
    "    return fig, ax\n",
    "\n",
    "hist(resid)\n",
    "plt.show()"
   ]
  },
  {
   "cell_type": "markdown",
   "metadata": {},
   "source": [
    "Los residuos no poseen distribución gaussiana, los supuestos no se cumplen para el modelo"
   ]
  },
  {
   "cell_type": "markdown",
   "metadata": {},
   "source": [
    "### Líneas Prepagas"
   ]
  },
  {
   "cell_type": "code",
   "execution_count": null,
   "metadata": {},
   "outputs": [],
   "source": [
    "residr=datat['Minutos prepago salientes (miles)']-fitted_sesr"
   ]
  },
  {
   "cell_type": "code",
   "execution_count": null,
   "metadata": {},
   "outputs": [],
   "source": [
    "fig, ax= plt.subplots(figsize=(9,6))\n",
    "residr.plot(color=blue)\n",
    "ax.set_xlabel('')\n",
    "ax.set_xticks([], minor=True) \n",
    "ax.set_title('Residual plot')\n",
    "sns.despine()\n",
    "plt.show()"
   ]
  },
  {
   "cell_type": "markdown",
   "metadata": {},
   "source": [
    "Varianza heterogénea "
   ]
  },
  {
   "cell_type": "code",
   "execution_count": null,
   "metadata": {},
   "outputs": [],
   "source": [
    "fig, ax = plt.subplots(figsize=(9,6))\n",
    "sm.graphics.tsa.plot_acf(residr, lags=20, ax=ax)\n",
    "sns.despine()\n",
    "plt.show()\n"
   ]
  },
  {
   "cell_type": "markdown",
   "metadata": {},
   "source": [
    "Hay que complementar los modelos ses, con ARIMA para determinar la estacionalidad, no queda claro en éstos modelos la existencia de tendencia y estacionalidad"
   ]
  },
  {
   "cell_type": "code",
   "execution_count": null,
   "metadata": {},
   "outputs": [],
   "source": [
    "def hist(series):\n",
    "    fig, ax= plt.subplots(figsize=(9,6))\n",
    "    sns.distplot(series, ax=ax, hist_kws={'alpha': 0.8, 'edgecolor':'black', 'color': blue},  \n",
    "                 kde_kws={'color': 'black', 'alpha': 0.7})\n",
    "    sns.despine()\n",
    "    return fig, ax\n",
    "\n",
    "hist(residr)\n",
    "plt.show()"
   ]
  },
  {
   "cell_type": "markdown",
   "metadata": {},
   "source": [
    "Los residuos para líneas prepagas no presentan distribución gaussiana, habría que revisar la heterogeneidad de varianzas"
   ]
  },
  {
   "cell_type": "markdown",
   "metadata": {},
   "source": [
    "### Validación del modelo"
   ]
  },
  {
   "cell_type": "code",
   "execution_count": null,
   "metadata": {},
   "outputs": [],
   "source": [
    "# Real time forecasting - use it as a template - expanding window\n",
    "\n",
    "validation=datat['Minutos pospago salientes (miles)']['2016Q1':].index # se valida el modelo con el data test que varía entre un \"20%-50%\"\n",
    "start = datat['Minutos pospago salientes (miles)'].index.get_loc('2016Q1') \n",
    "\n",
    "pred1 = [] #random walk\n",
    "pred2 = [] #SSE\n",
    "actual= [] #valor real\n",
    "for i in range(start, len(datat['Minutos pospago salientes (miles)'])):\n",
    "    \n",
    "    actual.append(datat['Minutos pospago salientes (miles)'].iloc[i]) # actual value\n",
    "    \n",
    "    pred1.append(datat['Minutos pospago salientes (miles)'].iloc[i-1]) # random walk forecast\n",
    "    \n",
    "    model = sm.tsa.SimpleExpSmoothing(datat['Minutos pospago salientes (miles)'].iloc[:i]).fit() \n",
    "    pred2.append(model.forecast(1)[0]) # SES forecast\n",
    "\n",
    "columns=['RW', 'SES', 'Actual']\n",
    "results_sm = np.vstack([pred1,pred2,actual]).T\n",
    "results_sm = pd.DataFrame(results_sm, columns=columns, index=validation)\n",
    "results_sm.tail()"
   ]
  },
  {
   "cell_type": "markdown",
   "metadata": {},
   "source": [
    "EL MODELO DE Random Walk tiene mayor precisión en las predicciones para líneas pospagas"
   ]
  },
  {
   "cell_type": "code",
   "execution_count": null,
   "metadata": {},
   "outputs": [],
   "source": [
    "from scipy import stats\n",
    "\n",
    "table = pd.DataFrame(0.0, index=results_sm.columns[:-1], columns=['RMSE','SE'])\n",
    "for i in range(2):\n",
    "    table.iloc[i,0] = sm.tools.eval_measures.rmse(results_sm.iloc[:,i], results_sm.iloc[:,-1])\n",
    "    table.iloc[i,1] = (results_sm.iloc[:,i] - results_sm.iloc[:,-1]).sem()\n",
    "table.round(3)"
   ]
  },
  {
   "cell_type": "markdown",
   "metadata": {},
   "source": [
    "El método RW presente menores errores en la predicción"
   ]
  },
  {
   "cell_type": "markdown",
   "metadata": {},
   "source": [
    "### Líneas prepagas"
   ]
  },
  {
   "cell_type": "code",
   "execution_count": null,
   "metadata": {},
   "outputs": [],
   "source": [
    "validation=datat['Minutos prepago salientes (miles)']['2016Q1':].index \n",
    "start = datat['Minutos prepago salientes (miles)'].index.get_loc('2016Q1') \n",
    "\n",
    "pred1 = [] #random walk\n",
    "pred2 = [] #SSE\n",
    "actual= [] #valor real\n",
    "for i in range(start, len(datat['Minutos prepago salientes (miles)'])):\n",
    "    \n",
    "    actual.append(datat['Minutos prepago salientes (miles)'].iloc[i]) # actual value\n",
    "    \n",
    "    pred1.append(datat['Minutos prepago salientes (miles)'].iloc[i-1]) # random walk forecast\n",
    "    \n",
    "    model = sm.tsa.SimpleExpSmoothing(datat['Minutos prepago salientes (miles)'].iloc[:i]).fit() \n",
    "    pred2.append(model.forecast(1)[0]) # SES forecast\n",
    "\n",
    "columns=['RW', 'SES', 'Actual']\n",
    "results_sm = np.vstack([pred1,pred2,actual]).T\n",
    "results_sm = pd.DataFrame(results_sm, columns=columns, index=validation)\n",
    "results_sm.tail()"
   ]
  },
  {
   "cell_type": "code",
   "execution_count": null,
   "metadata": {},
   "outputs": [],
   "source": [
    "table = pd.DataFrame(0.0, index=results_sm.columns[:-1], columns=['RMSE','SE'])\n",
    "for i in range(2):\n",
    "    table.iloc[i,0] = sm.tools.eval_measures.rmse(results_sm.iloc[:,i], results_sm.iloc[:,-1])\n",
    "    table.iloc[i,1] = (results_sm.iloc[:,i] - results_sm.iloc[:,-1]).sem()\n",
    "table.round(3)"
   ]
  },
  {
   "cell_type": "markdown",
   "metadata": {},
   "source": [
    "### Predicciones"
   ]
  },
  {
   "cell_type": "markdown",
   "metadata": {},
   "source": [
    "#### Expanding and rolling"
   ]
  },
  {
   "cell_type": "markdown",
   "metadata": {},
   "source": [
    "### Líneas Pospago"
   ]
  },
  {
   "cell_type": "code",
   "execution_count": null,
   "metadata": {},
   "outputs": [],
   "source": [
    "h=8\n",
    "w=h*2\n",
    "data = datat['Minutos pospago salientes (miles)']\n",
    "model = sm.tsa.SimpleExpSmoothing\n",
    "pred_index = datat['Minutos pospago salientes (miles)'].index[-1] + np.array(range(1,h+1))\n",
    "pred_rolling = pd.Series(0,index=pred_index)\n",
    "pred_expanding = pd.Series(0,index=pred_index)\n",
    "orig_exp = None\n",
    "orig_roll = None\n",
    "for i in range(0,h):\n",
    "    current_exp = pd.concat([data, pred_expanding.head(i)])\n",
    "    expanding = model(current_exp).fit()\n",
    "    pred_expanding.update(expanding.forecast(1))\n",
    "    current_roll = pd.concat([data, pred_rolling.head(i)])\n",
    "    rolling = model(current_roll.tail(w)).fit()  #en el rolling nos quedamos con un tail de w valores\n",
    "    pred_rolling.update(rolling.forecast(1))\n",
    "    if i==0:\n",
    "        orig_fit = expanding.fittedvalues  #aca aplica lo de cross-validation de expanding window y rolling window\n",
    "        orig_roll = rolling.fittedvalues\n",
    "ax = data[-w:].plot(color='red',figsize=(20,12));\n",
    "pd.concat([orig_fit[-w:],pred_expanding]).plot(ax=ax,color='blue',figsize=(20,12));\n",
    "pd.concat([orig_roll[-w:],pred_rolling]).plot(ax=ax,color='green',figsize=(20,12));"
   ]
  },
  {
   "cell_type": "markdown",
   "metadata": {},
   "source": [
    "Predicción con rolling y expanding para 64 años"
   ]
  },
  {
   "cell_type": "markdown",
   "metadata": {},
   "source": [
    "### Líneas Prepago"
   ]
  },
  {
   "cell_type": "code",
   "execution_count": null,
   "metadata": {},
   "outputs": [],
   "source": [
    "h=8\n",
    "w=h*2\n",
    "data = datat['Minutos prepago salientes (miles)']\n",
    "model = sm.tsa.SimpleExpSmoothing\n",
    "pred_index = datat['Minutos prepago salientes (miles)'].index[-1] + np.array(range(1,h+1))\n",
    "pred_rolling = pd.Series(0,index=pred_index)\n",
    "pred_expanding = pd.Series(0,index=pred_index)\n",
    "orig_exp = None\n",
    "orig_roll = None\n",
    "for i in range(0,h):\n",
    "    current_exp = pd.concat([data, pred_expanding.head(i)])\n",
    "    expanding = model(current_exp).fit()\n",
    "    pred_expanding.update(expanding.forecast(1))\n",
    "    current_roll = pd.concat([data, pred_rolling.head(i)])\n",
    "    rolling = model(current_roll.tail(w)).fit()  #en el rolling nos quedamos con un tail de w valores\n",
    "    pred_rolling.update(rolling.forecast(1))\n",
    "    if i==0:\n",
    "        orig_fit = expanding.fittedvalues  #aca aplica lo de cross-validation de expanding window y rolling window\n",
    "        orig_roll = rolling.fittedvalues\n",
    "ax = data[-w:].plot(color='red',figsize=(20,12));\n",
    "pd.concat([orig_fit[-w:],pred_expanding]).plot(ax=ax,color='blue',figsize=(20,12));\n",
    "pd.concat([orig_roll[-w:],pred_rolling]).plot(ax=ax,color='green',figsize=(20,12));"
   ]
  },
  {
   "cell_type": "code",
   "execution_count": null,
   "metadata": {},
   "outputs": [],
   "source": []
  }
 ],
 "metadata": {
  "kernelspec": {
   "display_name": "Python 3",
   "language": "python",
   "name": "python3"
  },
  "language_info": {
   "codemirror_mode": {
    "name": "ipython",
    "version": 3
   },
   "file_extension": ".py",
   "mimetype": "text/x-python",
   "name": "python",
   "nbconvert_exporter": "python",
   "pygments_lexer": "ipython3",
   "version": "3.6.8"
  }
 },
 "nbformat": 4,
 "nbformat_minor": 2
}
